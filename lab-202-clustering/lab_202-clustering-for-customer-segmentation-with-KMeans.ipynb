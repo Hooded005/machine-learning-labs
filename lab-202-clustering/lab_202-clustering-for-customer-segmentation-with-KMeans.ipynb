{
 "cells": [
  {
   "cell_type": "markdown",
   "id": "feca7de4",
   "metadata": {},
   "source": [
    "# Clustering for Customer Segmentation with KMeans\n",
    "\n",
    "\n",
    "## Key Takeaways\n",
    "In this module, students will gain a comprehensive understanding of KMeans clustering and its applications in customer segmentation. \n",
    "\n",
    "__They will learn how to:__\n",
    "- choose the optimal number of clusters, \n",
    "- visualize cluster results, and \n",
    "- apply clustering techniques to real-world datasets. \n",
    "\n",
    "Through practical exercises and projects, students will develop the skills necessary to leverage clustering for data-driven decision-making in various domains."
   ]
  },
  {
   "cell_type": "markdown",
   "id": "378e648e",
   "metadata": {},
   "source": [
    "## Introduction to Clustering\n",
    "- Definition of Clustering\n",
    "- Unsupervised Learning vs. Supervised Learning\n",
    "- Applications of Clustering in Data Science\n",
    "- Types of Clustering Algorithms: Partitioning, Hierarchical, Density-Based, Model-Based\n"
   ]
  },
  {
   "cell_type": "markdown",
   "id": "3cdd8887",
   "metadata": {},
   "source": [
    "## KMeans Algorithm\n",
    "\n",
    "__Overview of KMeans Clustering__\n",
    "\n",
    "___How KMeans Works:___\n",
    "1. Initialization: Randomly select initial cluster centroids\n",
    "2. Assignment: Assign each data point to the nearest cluster centroid\n",
    "3. Update: Recalculate the cluster centroids based on the mean of data points in each cluster\n",
    "4. Repeat Assignment and Update steps until convergence\n",
    "\n",
    "__Determining the Optimal Number of Clusters:__\n",
    "1. Elbow Method\n",
    "2. Silhouette Score"
   ]
  },
  {
   "cell_type": "markdown",
   "id": "b6061995",
   "metadata": {},
   "source": [
    "## Choosing the Optimal Number of Clusters\n",
    "\n",
    "__Elbow Method:__\n",
    "- Explanation of Elbow Method\n",
    "- Plotting the Within-Cluster Sum of Squares (WCSS) against the number of clusters\n",
    "- Identifying the \"elbow\" point where the rate of decrease in WCSS slows down\n",
    "\n",
    "__Silhouette Score:__\n",
    "- Explanation of Silhouette Score\n",
    "- Calculating the Silhouette Score for different numbers of clusters\n",
    "- Choosing the number of clusters with the highest Silhouette Score"
   ]
  },
  {
   "cell_type": "markdown",
   "id": "df990d3b",
   "metadata": {},
   "source": [
    "## Visualizing Clusters\n",
    "\n",
    "__Techniques for Visualizing Cluster Results:__\n",
    "- Scatter plots with cluster centroids\n",
    "- Cluster profiles: Mean feature values for each cluster\n",
    "- Cluster heatmaps: Visualizing cluster characteristics\n",
    "\n",
    "__Interpreting and Analyzing Cluster Results:__\n",
    "- Identifying distinct customer segments or groups\n",
    "- Understanding the characteristics and behaviors of each cluster\n",
    "- Extracting insights for business decisions and marketing strategies"
   ]
  },
  {
   "cell_type": "markdown",
   "id": "09192155",
   "metadata": {},
   "source": [
    "## Applications in Market Segmentation\n",
    "\n",
    "__How data science helps:__\n",
    "\n",
    "- Businesses analyze customer data to create targeted marketing strategies that cater to specific groups (segments), improving engagement and loyalty.\n",
    "\n",
    "__Types of customer segmentation features:__\n",
    "\n",
    "- Demographic, Geographic, Psychographic, and Behavioural.\n",
    "\n",
    "__Demographic__ - grouping is based on demographic variables such as age, gender, income, occupation, and education level. \n",
    "\n",
    "__Geographic__ - group according to their location, which could be as broad as a country or as specific as a neighborhood. This helps in tailoring marketing campaigns that are culturally and regionally relevant. \n",
    "\n",
    "__Psychographic__ - includes lifestyle, values, attitudes, and personal traits. \n",
    "\n",
    "__Behavioural__ - customers are divided based on their behaviour patterns related to the business, such as purchase history, product usage frequency, brand loyalty, and user status (new, potential, or loyal customers).\n",
    "\n",
    "__What data do I regularly segment on for Email Marketing Segmentation?__ \n",
    "\n",
    "Recency Frequency Monetary (RFM) features, time on list, time since last purchase, spend in last 30 days, products purchased, interests (what they clicking on), events attended, email scoring, clicked on a product page (which ones?), geographic region, number of tags, number of events, and many more.\n",
    "\n",
    "__Algorithms used:__\n",
    "\n",
    "- KMeans - great tool for finding similar customers.\n"
   ]
  },
  {
   "cell_type": "markdown",
   "id": "bf4c6124",
   "metadata": {},
   "source": [
    "## Libraries"
   ]
  },
  {
   "cell_type": "markdown",
   "id": "00c2430f",
   "metadata": {},
   "source": [
    "### Data Manipulation"
   ]
  },
  {
   "cell_type": "code",
   "execution_count": 15,
   "id": "6dd69e33",
   "metadata": {},
   "outputs": [],
   "source": [
    "import pandas as pd\n",
    "#from pandas_profiling import ProfileReport"
   ]
  },
  {
   "cell_type": "markdown",
   "id": "cb054452",
   "metadata": {},
   "source": [
    "### Visualization"
   ]
  },
  {
   "cell_type": "code",
   "execution_count": 12,
   "id": "82827c59",
   "metadata": {},
   "outputs": [],
   "source": [
    "import matplotlib.pyplot as plt\n",
    "import plotly as px"
   ]
  },
  {
   "cell_type": "markdown",
   "id": "73e988e6",
   "metadata": {},
   "source": [
    "### Date Manipulation"
   ]
  },
  {
   "cell_type": "code",
   "execution_count": 5,
   "id": "846583e7",
   "metadata": {},
   "outputs": [],
   "source": [
    "from datetime import date, datetime, timedelta"
   ]
  },
  {
   "cell_type": "markdown",
   "id": "b6436ad1",
   "metadata": {},
   "source": [
    "### Clustering Manipulation"
   ]
  },
  {
   "cell_type": "code",
   "execution_count": 6,
   "id": "a984f67b",
   "metadata": {},
   "outputs": [],
   "source": [
    "from sklearn.cluster import KMeans"
   ]
  },
  {
   "cell_type": "markdown",
   "id": "71b90e42",
   "metadata": {},
   "source": [
    "### For Category Features"
   ]
  },
  {
   "cell_type": "code",
   "execution_count": 7,
   "id": "988699e1",
   "metadata": {},
   "outputs": [],
   "source": [
    "from category_encoders import OneHotEncoder"
   ]
  },
  {
   "cell_type": "markdown",
   "id": "385de232",
   "metadata": {},
   "source": [
    "### For Scaling Features"
   ]
  },
  {
   "cell_type": "code",
   "execution_count": 8,
   "id": "1cdc94c5",
   "metadata": {},
   "outputs": [],
   "source": [
    "from sklearn.preprocessing import StandardScaler"
   ]
  },
  {
   "cell_type": "markdown",
   "id": "3934df66",
   "metadata": {},
   "source": [
    "### Model Pipeline"
   ]
  },
  {
   "cell_type": "code",
   "execution_count": 9,
   "id": "2ff8a8e4",
   "metadata": {},
   "outputs": [],
   "source": [
    "from sklearn.pipeline import make_pipeline\n",
    "from sklearn.decomposition import PCA"
   ]
  },
  {
   "cell_type": "markdown",
   "id": "751002ef",
   "metadata": {},
   "source": [
    "### Evaluation Metric"
   ]
  },
  {
   "cell_type": "code",
   "execution_count": 10,
   "id": "da02c5ee",
   "metadata": {},
   "outputs": [],
   "source": [
    "from sklearn.metrics import silhouette_score"
   ]
  },
  {
   "cell_type": "markdown",
   "id": "e762b53d",
   "metadata": {},
   "source": [
    "### Warnings"
   ]
  },
  {
   "cell_type": "code",
   "execution_count": 11,
   "id": "bd1149f6",
   "metadata": {},
   "outputs": [],
   "source": [
    "import warnings as wa"
   ]
  }
 ],
 "metadata": {
  "kernelspec": {
   "display_name": "Python 3",
   "language": "python",
   "name": "python3"
  },
  "language_info": {
   "codemirror_mode": {
    "name": "ipython",
    "version": 3
   },
   "file_extension": ".py",
   "mimetype": "text/x-python",
   "name": "python",
   "nbconvert_exporter": "python",
   "pygments_lexer": "ipython3",
   "version": "3.11.7"
  }
 },
 "nbformat": 4,
 "nbformat_minor": 5
}
